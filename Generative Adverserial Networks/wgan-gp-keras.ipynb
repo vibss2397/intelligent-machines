{
 "cells": [
  {
   "cell_type": "code",
   "execution_count": 8,
   "metadata": {},
   "outputs": [],
   "source": [
    "from __future__ import absolute_import, division, print_function\n",
    "\n",
    "import keras.backend as K\n",
    "from keras.models import Sequential, Model\n",
    "from keras.layers import Conv2D, ZeroPadding2D, BatchNormalization, Input, Dense\n",
    "from keras.layers import Conv2DTranspose, Reshape, Activation, Cropping2D, Flatten,Reshape\n",
    "from keras.layers.advanced_activations import LeakyReLU\n",
    "from keras.activations import relu\n",
    "from keras.initializers import RandomNormal\n",
    "\n",
    "import os\n",
    "import time\n",
    "import numpy as np\n",
    "import glob\n",
    "import matplotlib.pyplot as plt\n",
    "import PIL\n",
    "from IPython import display"
   ]
  },
  {
   "cell_type": "code",
   "execution_count": 3,
   "metadata": {},
   "outputs": [],
   "source": [
    "# hyperparameters\n",
    "n_critic = 5\n",
    "lr_d = 1e-4\n",
    "lr_g = 1e-4\n",
    "img_size = [64,64]\n",
    "BUFFER_SIZE = 142\n",
    "BATCH_SIZE = 16"
   ]
  },
  {
   "cell_type": "code",
   "execution_count": 4,
   "metadata": {},
   "outputs": [],
   "source": [
    "def create_data():\n",
    "    counter=0\n",
    "    images = []\n",
    "    labels=[]\n",
    "    print('converting images...')\n",
    "    for img in os.listdir('data2'):\n",
    "        images.append(np.asarray(PIL.Image.open('data2/'+img).resize((64,64)).convert('RGB')))\n",
    "        labels.append(img.split('.')[0])\n",
    "        counter+=1\n",
    "    images = np.asarray(images).astype('float32')\n",
    "    display.clear_output(wait=True)\n",
    "    print('done converting')\n",
    "  #do something similar for the labels\n",
    "    return images  "
   ]
  },
  {
   "cell_type": "code",
   "execution_count": 5,
   "metadata": {},
   "outputs": [
    {
     "name": "stdout",
     "output_type": "stream",
     "text": [
      "done converting\n"
     ]
    }
   ],
   "source": [
    "images=create_data()"
   ]
  },
  {
   "cell_type": "code",
   "execution_count": 6,
   "metadata": {},
   "outputs": [],
   "source": [
    "images = (images - 127.5) / 127.5"
   ]
  },
  {
   "cell_type": "code",
   "execution_count": 28,
   "metadata": {},
   "outputs": [],
   "source": [
    "def generator(train=False):\n",
    "    _ = inputs = Input((64,64,3))\n",
    "    _ = Dense(4*4*512, use_bias=False)(_)\n",
    "    _ = BatchNormalization()(_, training=train)\n",
    "    _ = LeakyReLU(alpha=0.3)(_)\n",
    "    \n",
    "    _ = Reshape(, 4, 4, 512))(_)\n",
    "    _ = Conv2DTranspose(256, (5, 5), strides=(2, 2), padding='same', use_bias=False)(_)\n",
    "    _ = BatchNormalization()(_, training=train)\n",
    "    _ = LeakyReLU(alpha=0.3)(_)\n",
    "    \n",
    "    _ = Conv2DTranspose(128, (5, 5), strides=(2, 2), padding='same', use_bias=False)(_)\n",
    "    _ = BatchNormalization()(_, training=train)\n",
    "    _ = LeakyReLU(alpha=0.3)(_)\n",
    "\n",
    "    _ = Conv2DTranspose(64, (5, 5), strides=(2, 2), padding='same', use_bias=False)(_)\n",
    "    _ = BatchNormalization()(_, training=train)\n",
    "    _ = LeakyReLU(alpha=0.3)(_)\n",
    "    \n",
    "    _ = Conv2DTranspose(3, (5, 5), strides=(2, 2), padding='same', use_bias=False)(_)\n",
    "    output = Activation(\"tanh\")(_)\n",
    "    \n",
    "    return Model(inputs = inputs , outputs = output)"
   ]
  },
  {
   "cell_type": "code",
   "execution_count": 30,
   "metadata": {},
   "outputs": [
    {
     "name": "stdout",
     "output_type": "stream",
     "text": [
      "_________________________________________________________________\n",
      "Layer (type)                 Output Shape              Param #   \n",
      "=================================================================\n",
      "input_9 (InputLayer)         (None, 64, 64, 3)         0         \n",
      "_________________________________________________________________\n",
      "dense_8 (Dense)              (None, 64, 64, 8192)      24576     \n",
      "_________________________________________________________________\n",
      "batch_normalization_10 (Batc (None, 64, 64, 8192)      32768     \n",
      "_________________________________________________________________\n",
      "leaky_re_lu_9 (LeakyReLU)    (None, 64, 64, 8192)      0         \n",
      "_________________________________________________________________\n",
      "conv2d_transpose_6 (Conv2DTr (None, 128, 128, 256)     52428800  \n",
      "_________________________________________________________________\n",
      "batch_normalization_11 (Batc (None, 128, 128, 256)     1024      \n",
      "_________________________________________________________________\n",
      "leaky_re_lu_10 (LeakyReLU)   (None, 128, 128, 256)     0         \n",
      "_________________________________________________________________\n",
      "conv2d_transpose_7 (Conv2DTr (None, 256, 256, 128)     819200    \n",
      "_________________________________________________________________\n",
      "batch_normalization_12 (Batc (None, 256, 256, 128)     512       \n",
      "_________________________________________________________________\n",
      "leaky_re_lu_11 (LeakyReLU)   (None, 256, 256, 128)     0         \n",
      "_________________________________________________________________\n",
      "conv2d_transpose_8 (Conv2DTr (None, 512, 512, 64)      204800    \n",
      "_________________________________________________________________\n",
      "batch_normalization_13 (Batc (None, 512, 512, 64)      256       \n",
      "_________________________________________________________________\n",
      "leaky_re_lu_12 (LeakyReLU)   (None, 512, 512, 64)      0         \n",
      "_________________________________________________________________\n",
      "conv2d_transpose_9 (Conv2DTr (None, 1024, 1024, 3)     4800      \n",
      "_________________________________________________________________\n",
      "activation_2 (Activation)    (None, 1024, 1024, 3)     0         \n",
      "=================================================================\n",
      "Total params: 53,516,736\n",
      "Trainable params: 53,499,456\n",
      "Non-trainable params: 17,280\n",
      "_________________________________________________________________\n"
     ]
    }
   ],
   "source": [
    "generator(train=True).summary()"
   ]
  },
  {
   "cell_type": "code",
   "execution_count": null,
   "metadata": {},
   "outputs": [],
   "source": []
  }
 ],
 "metadata": {
  "kernelspec": {
   "display_name": "Python 3",
   "language": "python",
   "name": "python3"
  },
  "language_info": {
   "codemirror_mode": {
    "name": "ipython",
    "version": 3
   },
   "file_extension": ".py",
   "mimetype": "text/x-python",
   "name": "python",
   "nbconvert_exporter": "python",
   "pygments_lexer": "ipython3",
   "version": "3.6.6"
  }
 },
 "nbformat": 4,
 "nbformat_minor": 2
}
